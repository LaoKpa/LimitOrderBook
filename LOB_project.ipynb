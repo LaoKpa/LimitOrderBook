{
 "cells": [
  {
   "cell_type": "markdown",
   "metadata": {},
   "source": [
    "# Imports"
   ]
  },
  {
   "cell_type": "code",
   "execution_count": null,
   "metadata": {},
   "outputs": [],
   "source": [
    "import numpy as np\n",
    "import pandas as pd\n",
    "import seaborn as sns\n",
    "import matplotlib.pyplot as plt\n",
    "import re\n",
    "# import cvxopt # <- installation via conda recommended\n",
    "from collections import defaultdict\n",
    "from tqdm import tqdm\n",
    "from sklearn.feature_extraction.text import CountVectorizer\n",
    "from sklearn.linear_model import LogisticRegression\n",
    "import nltk\n",
    "import scipy.optimize as sopt\n",
    "import scipy.stats as sstats\n",
    "import csv"
   ]
  },
  {
   "cell_type": "markdown",
   "metadata": {},
   "source": [
    "# Data loading"
   ]
  },
  {
   "cell_type": "markdown",
   "metadata": {},
   "source": [
    "BID = BUY, ASK = SELL"
   ]
  },
  {
   "cell_type": "markdown",
   "metadata": {},
   "source": [
    "We will be using LOB (Limit Order Book) data from ___ market, September 2013.\n",
    "Every row of our data represent all active ask and bid orders in some moment on time. Row can be describe as below:\n",
    "\n",
    "date time 'BID' $p_{b1}$ $w_{b1}$ $p_{b2}$ $w_{b2}$ ... $p_{bn}$ $w_{bn}$ 'ASK' $p_{a1}$ $w_{a1}$ $p_{a2}$ $w_{a2}$ ... $p_{am}$ $w_{am}$,\n",
    "where $p_b$, $w_b$ are prices and size of bid order and $p_a$, $w_a$ are prives and sizes of ask order. Prices $p_x$ are sorted ascending.\n",
    "\n",
    "LOB data are often represented as 3-element tuples $(p_x,w_x,t_x)$, where $p_x,w_x,t_x$ represent price,size and time of $x-th$ order and $w_x$ is greater than zero for ask order.\n",
    "\n",
    "In our case it will be batter to represent data as a list in which every element is tuple of bid and ask orders lists. Bid and ask lists consist of $(p_x,w_x)$ tuples, and $w_x > 0$ for all orders.\n",
    "\n",
    "We consider orders from $8:30$ to $16:30$ to eliminate abnormal trading behaviour that can occur shortly after the opening auction or shortly before closing auction.\n",
    "\n",
    "\n",
    "\n"
   ]
  },
  {
   "cell_type": "code",
   "execution_count": null,
   "metadata": {},
   "outputs": [],
   "source": [
    "def load_data(path,start_time=83000000,stop_time=163000000):\n",
    "    X = []\n",
    "    with open(path,newline='') as file:\n",
    "        csv_reader = csv.reader(file,delimiter='\\t')\n",
    "        for row in csv_reader:\n",
    "            date,time = map(int,row[0].split(' '))\n",
    "            if time < start_time or time > stop_time:\n",
    "                continue\n",
    "            \n",
    "            line = 2\n",
    "            ASK_list = []\n",
    "            BID_list = []\n",
    "            while line < len(row):\n",
    "                if row[line] == 'ASK':\n",
    "                    break\n",
    "                p,w = map(float,row[line:line+2])\n",
    "                BID_list.append((p,w))\n",
    "                line += 2\n",
    "            line += 1\n",
    "            while line < len(row):\n",
    "                p,w = map(float,row[line:line+2])\n",
    "                ASK_list.append((p,w))\n",
    "                line += 2\n",
    "            \n",
    "            X.append((BID_list,ASK_list))\n",
    "\n",
    "    return X "
   ]
  },
  {
   "cell_type": "code",
   "execution_count": null,
   "metadata": {},
   "outputs": [],
   "source": [
    "path = \"C:\\Projekt_ED\\OrderBookSnapshots.csv\"\n",
    "data = load_data(path)"
   ]
  },
  {
   "cell_type": "code",
   "execution_count": null,
   "metadata": {},
   "outputs": [],
   "source": [
    "len(data)"
   ]
  },
  {
   "cell_type": "code",
   "execution_count": null,
   "metadata": {},
   "outputs": [],
   "source": [
    "data[0]"
   ]
  },
  {
   "cell_type": "markdown",
   "metadata": {},
   "source": [
    "At a given time $t$, the bid price $b(t)$ is the highest stated price among active buy orders,  \n",
    "<center>$b(t) = \\max_{x \\in BIDlist(t)} p_x $</center>  \n",
    "and the ask price $a(t)$ is the lowest stated price among active sell orders,  \n",
    "<center>$a(t) = \\min_{x \\in ASKlist(t)} p_x $</center>  \n",
    "The mid price at time $t$ is  \n",
    "<center>$m(t) = \\frac{a(t)+b(t)}{2} $</center>  \n",
    "  \n",
    "The bid size $n_b(t)$ is total size of active buy orders with price equal to bid price  \n",
    "<center>$n_b(t) = \\sum_{x \\in BIDlist(t) | px = b(t)} w_x $</center>  \n",
    "and ask size $n_b(t)$ is total size of active sell orders with price equal to ask price  \n",
    "<center>$n_a(t) = \\sum_{x \\in ASKlist(t) | px = a(t)} w_x $</center>  \n",
    "  \n",
    "At a given time $t$, the queue imbalance $I(t)$ is normalized difference between $n_b(t)$ and $n_a(t)$  \n",
    "<center>$I(t) = \\frac{n_b(t) - n_a(t)}{n_b(t) + n_a(t)} $</center>  "
   ]
  },
  {
   "cell_type": "code",
   "execution_count": null,
   "metadata": {},
   "outputs": [],
   "source": [
    "def bid_price(data,t):\n",
    "    return data[t][0][-1][0]"
   ]
  },
  {
   "cell_type": "code",
   "execution_count": null,
   "metadata": {},
   "outputs": [],
   "source": [
    "def ask_price(data,t):\n",
    "    return data[t][1][0][0]"
   ]
  },
  {
   "cell_type": "code",
   "execution_count": null,
   "metadata": {},
   "outputs": [],
   "source": [
    "def mid_price(data,t):\n",
    "    return (bid_price(data,t) + ask_price(data,t))/2"
   ]
  },
  {
   "cell_type": "code",
   "execution_count": null,
   "metadata": {},
   "outputs": [],
   "source": [
    "def bid_size(data,t):\n",
    "    return data[t][0][-1][1]"
   ]
  },
  {
   "cell_type": "code",
   "execution_count": null,
   "metadata": {},
   "outputs": [],
   "source": [
    "def ask_size(data,t):\n",
    "    return data[t][1][0][1]"
   ]
  },
  {
   "cell_type": "code",
   "execution_count": null,
   "metadata": {},
   "outputs": [],
   "source": [
    "def queue_imbalance(data,t):\n",
    "    nb = bid_size(data,t)\n",
    "    na = ask_size(data,t)\n",
    "    return (nb-na)/(nb+na)"
   ]
  },
  {
   "cell_type": "code",
   "execution_count": null,
   "metadata": {},
   "outputs": [],
   "source": [
    "mid_price(data,3)"
   ]
  },
  {
   "cell_type": "code",
   "execution_count": null,
   "metadata": {},
   "outputs": [],
   "source": [
    "T = [0]\n",
    "for t in range(1,len(data)):\n",
    "    mt = mid_price(data,t)\n",
    "    mt_1 = mid_price(data,T[-1])\n",
    "    if mt != mt_1:\n",
    "        T.append(t)\n",
    "T = np.array(T)"
   ]
  },
  {
   "cell_type": "code",
   "execution_count": null,
   "metadata": {},
   "outputs": [],
   "source": []
  }
 ],
 "metadata": {
  "kernelspec": {
   "display_name": "Python 3",
   "language": "python",
   "name": "python3"
  },
  "language_info": {
   "codemirror_mode": {
    "name": "ipython",
    "version": 3
   },
   "file_extension": ".py",
   "mimetype": "text/x-python",
   "name": "python",
   "nbconvert_exporter": "python",
   "pygments_lexer": "ipython3",
   "version": "3.7.4"
  },
  "latex_envs": {
   "LaTeX_envs_menu_present": true,
   "autoclose": false,
   "autocomplete": true,
   "bibliofile": "biblio.bib",
   "cite_by": "apalike",
   "current_citInitial": 1,
   "eqLabelWithNumbers": true,
   "eqNumInitial": 1,
   "hotkeys": {
    "equation": "Ctrl-E",
    "itemize": "Ctrl-I"
   },
   "labels_anchors": false,
   "latex_user_defs": false,
   "report_style_numbering": false,
   "user_envs_cfg": false
  },
  "toc": {
   "base_numbering": 1,
   "nav_menu": {},
   "number_sections": true,
   "sideBar": true,
   "skip_h1_title": false,
   "title_cell": "Table of Contents",
   "title_sidebar": "Contents",
   "toc_cell": false,
   "toc_position": {},
   "toc_section_display": true,
   "toc_window_display": false
  }
 },
 "nbformat": 4,
 "nbformat_minor": 2
}
