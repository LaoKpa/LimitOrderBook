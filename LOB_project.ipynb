{
 "cells": [
  {
   "cell_type": "markdown",
   "metadata": {},
   "source": [
    "# Imports"
   ]
  },
  {
   "cell_type": "code",
   "execution_count": 1,
   "metadata": {},
   "outputs": [],
   "source": [
    "import numpy as np\n",
    "import pandas as pd\n",
    "import seaborn as sns\n",
    "import matplotlib.pyplot as plt\n",
    "import re\n",
    "# import cvxopt # <- installation via conda recommended\n",
    "from collections import defaultdict\n",
    "from tqdm import tqdm\n",
    "from sklearn.feature_extraction.text import CountVectorizer\n",
    "from sklearn.linear_model import LogisticRegression\n",
    "import nltk\n",
    "import scipy.optimize as sopt\n",
    "import scipy.stats as sstats\n",
    "import csv"
   ]
  },
  {
   "cell_type": "markdown",
   "metadata": {},
   "source": [
    "# Data loading"
   ]
  },
  {
   "cell_type": "markdown",
   "metadata": {},
   "source": [
    "BID = BUY, ASK = SELL"
   ]
  },
  {
   "cell_type": "markdown",
   "metadata": {},
   "source": [
    "We will be using LOB (Limit Order Book) data from ___ market, September 2013.\n",
    "Every row of our data represent all active ask and bid orders in some moment on time. Row can be describe as below:\n",
    "\n",
    "date time 'BID' $p_{b1}$ $w_{b1}$ $p_{b2}$ $w_{b2}$ ... $p_{bn}$ $w_{bn}$ 'ASK' $p_{a1}$ $w_{a1}$ $p_{a2}$ $w_{a2}$ ... $p_{am}$ $w_{am}$,\n",
    "where $p_b$, $w_b$ are prices and size of bid order and $p_a$, $w_a$ are prives and sizes of ask order. Prices $p_x$ are sorted ascending.\n",
    "\n",
    "LOB data are often represented as 3-element tuples $(p_x,w_x,t_x)$, where $p_x,w_x,t_x$ represent price,size and time of $x-th$ order and $w_x$ is greater than zero for ask order.\n",
    "\n",
    "In our case it will be batter to represent data as a list in which every element is tuple of bid and ask orders lists. Bid and ask lists consist of $(p_x,w_x)$ tuples, and $w_x > 0$ for all orders.\n",
    "\n",
    "We consider orders from $8:30$ to $16:30$ to eliminate abnormal trading behaviour that can occur shortly after the opening auction or shortly before closing auction.\n",
    "\n",
    "\n",
    "\n"
   ]
  },
  {
   "cell_type": "code",
   "execution_count": 2,
   "metadata": {},
   "outputs": [],
   "source": [
    "def load_data(path,start_time=83000000,stop_time=163000000):\n",
    "    X = []\n",
    "    with open(path,newline='') as file:\n",
    "        csv_reader = csv.reader(file,delimiter='\\t')\n",
    "        for row in csv_reader:\n",
    "            date,time = map(int,row[0].split(' '))\n",
    "            if time < start_time or time > stop_time:\n",
    "                continue\n",
    "            \n",
    "            line = 2\n",
    "            ASK_list = []\n",
    "            BID_list = []\n",
    "            while line < len(row):\n",
    "                if row[line] == 'ASK':\n",
    "                    break\n",
    "                p,w = map(float,row[line:line+2])\n",
    "                BID_list.append((p,w))\n",
    "                line += 2\n",
    "            line += 1\n",
    "            while line < len(row):\n",
    "                p,w = map(float,row[line:line+2])\n",
    "                ASK_list.append((p,w))\n",
    "                line += 2\n",
    "            \n",
    "            X.append((BID_list,ASK_list))\n",
    "\n",
    "    return X "
   ]
  },
  {
   "cell_type": "code",
   "execution_count": 3,
   "metadata": {},
   "outputs": [],
   "source": [
    "path = \"C:\\Projekt_ED\\OrderBookSnapshots.csv\"\n",
    "data = load_data(path)"
   ]
  },
  {
   "cell_type": "code",
   "execution_count": 4,
   "metadata": {},
   "outputs": [
    {
     "data": {
      "text/plain": [
       "4810"
      ]
     },
     "execution_count": 4,
     "metadata": {},
     "output_type": "execute_result"
    }
   ],
   "source": [
    "len(data)"
   ]
  },
  {
   "cell_type": "code",
   "execution_count": 5,
   "metadata": {},
   "outputs": [
    {
     "data": {
      "text/plain": [
       "([(258.6, 830.0),\n",
       "  (2100.0, 6774.0),\n",
       "  (2104.0, 20000.0),\n",
       "  (2220.0, 100.0),\n",
       "  (2225.0, 1335.0),\n",
       "  (2250.0, 1300.0),\n",
       "  (2300.0, 2697.0),\n",
       "  (2336.5, 50.0),\n",
       "  (2350.0, 581.0),\n",
       "  (2370.0, 710.0),\n",
       "  (2400.0, 5503.0),\n",
       "  (2450.0, 502.0),\n",
       "  (2485.0, 330.0),\n",
       "  (2493.0, 697.0),\n",
       "  (2500.0, 9167.0),\n",
       "  (2515.0, 272.0),\n",
       "  (2525.0, 1000.0),\n",
       "  (2540.0, 120.0),\n",
       "  (2550.0, 2000.0),\n",
       "  (2569.0, 2750.0),\n",
       "  (2575.0, 250.0),\n",
       "  (2585.0, 330.0),\n",
       "  (2590.0, 519.0),\n",
       "  (2595.0, 1000.0),\n",
       "  (2597.0, 30.0),\n",
       "  (2600.0, 8823.0),\n",
       "  (2607.0, 3518.0),\n",
       "  (2610.0, 976.0),\n",
       "  (2636.0, 325.0),\n",
       "  (2649.0, 250.0),\n",
       "  (2649.5, 100.0),\n",
       "  (2650.0, 1103.0),\n",
       "  (2651.0, 2250.0),\n",
       "  (2655.0, 261.0),\n",
       "  (2665.0, 400.0),\n",
       "  (2670.0, 300.0),\n",
       "  (2686.0, 208.0),\n",
       "  (2690.0, 820.0),\n",
       "  (2700.0, 3134.0),\n",
       "  (2708.0, 75.0),\n",
       "  (2710.0, 344.0),\n",
       "  (2715.0, 500.0),\n",
       "  (2726.0, 77.0),\n",
       "  (2731.0, 150.0),\n",
       "  (2750.0, 3277.0),\n",
       "  (2770.0, 400.0),\n",
       "  (2785.0, 155.0),\n",
       "  (2787.0, 200.0),\n",
       "  (2800.0, 10011.0),\n",
       "  (2805.0, 1959.0),\n",
       "  (2810.0, 4207.0),\n",
       "  (2820.0, 101.0),\n",
       "  (2826.0, 1800.0),\n",
       "  (2830.0, 1500.0),\n",
       "  (2840.0, 50.0),\n",
       "  (2850.0, 3872.0),\n",
       "  (2851.5, 257.0),\n",
       "  (2860.0, 3150.0),\n",
       "  (2867.0, 280.0),\n",
       "  (2870.0, 800.0),\n",
       "  (2872.0, 75.0),\n",
       "  (2875.0, 625.0),\n",
       "  (2885.0, 150.0),\n",
       "  (2890.0, 400.0),\n",
       "  (2896.0, 200.0),\n",
       "  (2900.0, 5438.0),\n",
       "  (2913.0, 1000.0),\n",
       "  (2920.0, 5150.0),\n",
       "  (2925.0, 280.0),\n",
       "  (2930.0, 250.0),\n",
       "  (2934.5, 3002.0),\n",
       "  (2935.0, 5000.0),\n",
       "  (2940.0, 15000.0),\n",
       "  (2945.0, 680.0),\n",
       "  (2945.5, 300.0),\n",
       "  (2950.0, 14914.0),\n",
       "  (2954.0, 8100.0),\n",
       "  (2955.0, 2054.0),\n",
       "  (2956.0, 251.0),\n",
       "  (2960.0, 25.0),\n",
       "  (2965.0, 5000.0),\n",
       "  (2966.0, 1000.0),\n",
       "  (2970.0, 2500.0),\n",
       "  (2972.5, 4088.0),\n",
       "  (2975.0, 13100.0),\n",
       "  (2977.5, 2807.0),\n",
       "  (2979.5, 2734.0),\n",
       "  (2980.0, 1018.0),\n",
       "  (2982.0, 2405.0),\n",
       "  (2982.5, 1430.0),\n",
       "  (2983.0, 2610.0),\n",
       "  (2984.5, 2160.0),\n",
       "  (2985.0, 5000.0),\n",
       "  (2985.5, 3518.0),\n",
       "  (2987.5, 295.0),\n",
       "  (2988.0, 3143.0),\n",
       "  (2989.0, 512.0),\n",
       "  (2989.5, 1329.0),\n",
       "  (2990.0, 1858.0),\n",
       "  (2990.5, 1131.0),\n",
       "  (2991.0, 1544.0),\n",
       "  (2991.5, 1758.0),\n",
       "  (2992.0, 827.0),\n",
       "  (2992.5, 1245.0),\n",
       "  (2993.0, 3758.0),\n",
       "  (2993.5, 649.0),\n",
       "  (2994.0, 934.0),\n",
       "  (2994.5, 107.0)],\n",
       " [(2995.5, 1079.0),\n",
       "  (2996.0, 938.0),\n",
       "  (2996.5, 1575.0),\n",
       "  (2997.0, 2154.0),\n",
       "  (2997.5, 1581.0),\n",
       "  (2998.0, 1932.0),\n",
       "  (2998.5, 1915.0),\n",
       "  (2999.0, 1158.0),\n",
       "  (2999.5, 1203.0),\n",
       "  (3000.0, 7642.0),\n",
       "  (3000.5, 495.0),\n",
       "  (3001.5, 302.0),\n",
       "  (3002.0, 44.0),\n",
       "  (3002.5, 3120.0),\n",
       "  (3003.5, 300.0),\n",
       "  (3004.0, 712.0),\n",
       "  (3004.5, 295.0),\n",
       "  (3005.0, 1000.0),\n",
       "  (3005.5, 2256.0),\n",
       "  (3006.0, 2000.0),\n",
       "  (3008.0, 2418.0),\n",
       "  (3008.5, 2719.0),\n",
       "  (3009.0, 250.0),\n",
       "  (3011.0, 2172.0),\n",
       "  (3016.0, 8100.0),\n",
       "  (3019.0, 250.0),\n",
       "  (3021.0, 1601.0),\n",
       "  (3029.0, 250.0),\n",
       "  (3030.0, 10000.0),\n",
       "  (3031.0, 8100.0),\n",
       "  (3037.0, 324.0),\n",
       "  (3039.0, 250.0),\n",
       "  (3047.0, 280.0),\n",
       "  (3048.5, 2699.0),\n",
       "  (3049.0, 250.0),\n",
       "  (3059.0, 250.0),\n",
       "  (3069.0, 250.0),\n",
       "  (3075.0, 5000.0),\n",
       "  (3079.0, 250.0),\n",
       "  (3100.0, 2474.0),\n",
       "  (3105.5, 280.0),\n",
       "  (3115.0, 1630.0),\n",
       "  (3118.0, 269.0),\n",
       "  (3120.0, 241.0),\n",
       "  (3130.0, 100.0),\n",
       "  (3150.0, 728.0),\n",
       "  (3175.0, 3883.0),\n",
       "  (3180.0, 6000.0),\n",
       "  (3185.0, 30.0),\n",
       "  (3190.0, 200.0),\n",
       "  (3200.0, 736.0),\n",
       "  (3210.0, 150.0),\n",
       "  (3217.0, 57.0),\n",
       "  (3220.0, 700.0),\n",
       "  (3221.0, 300.0),\n",
       "  (3225.0, 1600.0),\n",
       "  (3240.0, 320.0),\n",
       "  (3250.0, 13965.0),\n",
       "  (3260.0, 424.0),\n",
       "  (3270.0, 1300.0),\n",
       "  (3272.5, 500.0),\n",
       "  (3275.0, 3300.0),\n",
       "  (3280.0, 1600.0),\n",
       "  (3290.0, 235.0),\n",
       "  (3292.0, 900.0),\n",
       "  (3299.0, 90.0),\n",
       "  (3300.0, 14543.0),\n",
       "  (3305.0, 1100.0),\n",
       "  (3325.0, 10772.0),\n",
       "  (3330.0, 1600.0),\n",
       "  (3350.0, 2080.0),\n",
       "  (3368.0, 3000.0),\n",
       "  (3375.0, 100.0),\n",
       "  (3380.0, 1400.0),\n",
       "  (3390.0, 553.0),\n",
       "  (3400.0, 5139.0),\n",
       "  (3413.0, 222.0),\n",
       "  (3440.0, 300.0),\n",
       "  (3445.0, 1340.0),\n",
       "  (3450.0, 1000.0),\n",
       "  (3465.0, 320.0),\n",
       "  (3479.5, 500.0),\n",
       "  (3490.0, 265.0),\n",
       "  (3500.0, 13656.0),\n",
       "  (3531.0, 83.0),\n",
       "  (3545.0, 61.0),\n",
       "  (3567.0, 140.0),\n",
       "  (3570.0, 200.0),\n",
       "  (3580.0, 1053.0),\n",
       "  (3600.0, 6580.0),\n",
       "  (3650.0, 310.0),\n",
       "  (3660.0, 600.0),\n",
       "  (3680.0, 1785.0),\n",
       "  (3690.0, 6448.0),\n",
       "  (3700.0, 709.0),\n",
       "  (3750.0, 344.0),\n",
       "  (3800.0, 43869.0),\n",
       "  (3830.0, 200.0),\n",
       "  (3850.0, 331.0),\n",
       "  (3890.0, 160.0),\n",
       "  (3900.0, 1854.0),\n",
       "  (3940.0, 150.0),\n",
       "  (3950.0, 479.0),\n",
       "  (4000.0, 3816.0),\n",
       "  (4010.0, 179.0),\n",
       "  (4034.0, 225.0),\n",
       "  (4050.0, 500.0),\n",
       "  (4125.0, 190.0),\n",
       "  (4134.0, 54.0),\n",
       "  (4200.0, 4851.0),\n",
       "  (4250.0, 1345.0),\n",
       "  (4278.0, 21600.0),\n",
       "  (4300.0, 1734.0),\n",
       "  (4322.0, 58.0),\n",
       "  (4333.0, 735.0),\n",
       "  (4500.0, 2790.0),\n",
       "  (4650.0, 976.0),\n",
       "  (4950.0, 502.0)])"
      ]
     },
     "execution_count": 5,
     "metadata": {},
     "output_type": "execute_result"
    }
   ],
   "source": [
    "data[0]"
   ]
  },
  {
   "cell_type": "markdown",
   "metadata": {},
   "source": [
    "At a given time $t$, the bid price $b(t)$ is the highest stated price among active buy orders,  \n",
    "<center>$b(t) = \\max_{x \\in BIDlist(t)} p_x $</center>  \n",
    "and the ask price $a(t)$ is the lowest stated price among active sell orders,  \n",
    "<center>$a(t) = \\min_{x \\in ASKlist(t)} p_x $</center>  \n",
    "The mid price at time $t$ is  \n",
    "<center>$m(t) = \\frac{a(t)+b(t)}{2} $</center>  \n",
    "  \n",
    "The bid size $n_b(t)$ is total size of active buy orders with price equal to bid price  \n",
    "<center>$n_b(t) = \\sum_{x \\in BIDlist(t) | px = b(t)} w_x $</center>  \n",
    "and ask size $n_b(t)$ is total size of active sell orders with price equal to ask price  \n",
    "<center>$n_a(t) = \\sum_{x \\in ASKlist(t) | px = a(t)} w_x $</center>  \n",
    "  \n",
    "At a given time $t$, the queue imbalance $I(t)$ is normalized difference between $n_b(t)$ and $n_a(t)$  \n",
    "<center>$I(t) = \\frac{n_b(t) - n_a(t)}{n_b(t) + n_a(t)} $</center>  "
   ]
  },
  {
   "cell_type": "code",
   "execution_count": 6,
   "metadata": {},
   "outputs": [],
   "source": [
    "def bid_price(data,t):\n",
    "    return data[t][0][-1][0]"
   ]
  },
  {
   "cell_type": "code",
   "execution_count": 7,
   "metadata": {},
   "outputs": [],
   "source": [
    "def ask_price(data,t):\n",
    "    return data[t][1][0][0]"
   ]
  },
  {
   "cell_type": "code",
   "execution_count": 8,
   "metadata": {},
   "outputs": [],
   "source": [
    "def mid_price(data,t):\n",
    "    return (bid_price(data,t) + ask_price(data,t))/2"
   ]
  },
  {
   "cell_type": "code",
   "execution_count": 9,
   "metadata": {},
   "outputs": [],
   "source": [
    "def bid_size(data,t):\n",
    "    return data[t][0][-1][1]"
   ]
  },
  {
   "cell_type": "code",
   "execution_count": 10,
   "metadata": {},
   "outputs": [],
   "source": [
    "def ask_size(data,t):\n",
    "    return data[t][1][0][1]"
   ]
  },
  {
   "cell_type": "code",
   "execution_count": 11,
   "metadata": {},
   "outputs": [],
   "source": [
    "def queue_imbalance(data,t):\n",
    "    nb = bid_size(data,t)\n",
    "    na = ask_size(data,t)\n",
    "    return (nb-na)/(nb+na)"
   ]
  },
  {
   "cell_type": "code",
   "execution_count": null,
   "metadata": {},
   "outputs": [],
   "source": [
    "def queue_imbalance_k(data,t):\n",
    "    "
   ]
  },
  {
   "cell_type": "code",
   "execution_count": 12,
   "metadata": {},
   "outputs": [
    {
     "data": {
      "text/plain": [
       "2997.0"
      ]
     },
     "execution_count": 12,
     "metadata": {},
     "output_type": "execute_result"
    }
   ],
   "source": [
    "mid_price(data,3)"
   ]
  },
  {
   "cell_type": "code",
   "execution_count": 41,
   "metadata": {},
   "outputs": [],
   "source": [
    "def get_time_and_target(data):\n",
    "    T = [0]\n",
    "    target = []\n",
    "    for t in range(1,len(data)):\n",
    "        t_1 = T[-1]\n",
    "        mt = mid_price(data,t)\n",
    "        mt_1 = mid_price(data,t_1)\n",
    "        if mt != mt_1:\n",
    "            T.append(t)\n",
    "            if mt > mt_1:\n",
    "                target.append(1)\n",
    "            else:\n",
    "                target.append(0)\n",
    "    return np.array(T[:-1]),np.array(target)"
   ]
  },
  {
   "cell_type": "code",
   "execution_count": 42,
   "metadata": {},
   "outputs": [],
   "source": [
    "T,target = get_time_and_target(data)"
   ]
  },
  {
   "cell_type": "code",
   "execution_count": 43,
   "metadata": {},
   "outputs": [
    {
     "data": {
      "text/plain": [
       "array([1, 0, 0, ..., 1, 0, 1])"
      ]
     },
     "execution_count": 43,
     "metadata": {},
     "output_type": "execute_result"
    }
   ],
   "source": [
    "target"
   ]
  },
  {
   "cell_type": "code",
   "execution_count": 59,
   "metadata": {},
   "outputs": [],
   "source": [
    "X = np.array([queue_imbalance(data,t) for t in T])"
   ]
  },
  {
   "cell_type": "code",
   "execution_count": 60,
   "metadata": {},
   "outputs": [],
   "source": [
    "from sklearn.model_selection import train_test_split\n",
    "X_train, X_test, y_train, y_test = train_test_split(\n",
    "         X, target, test_size=0.2, random_state=42,shuffle=False)"
   ]
  },
  {
   "cell_type": "code",
   "execution_count": 61,
   "metadata": {},
   "outputs": [],
   "source": [
    "LR = LogisticRegression()"
   ]
  },
  {
   "cell_type": "code",
   "execution_count": 62,
   "metadata": {},
   "outputs": [
    {
     "data": {
      "text/plain": [
       "array([-0.81956155,  0.87846764,  0.92975207, ..., -0.36411609,\n",
       "        0.35603996, -0.97839006])"
      ]
     },
     "execution_count": 62,
     "metadata": {},
     "output_type": "execute_result"
    }
   ],
   "source": [
    "X"
   ]
  },
  {
   "cell_type": "code",
   "execution_count": 63,
   "metadata": {},
   "outputs": [
    {
     "data": {
      "text/plain": [
       "array([[-0.81956155],\n",
       "       [ 0.87846764],\n",
       "       [ 0.92975207],\n",
       "       ...,\n",
       "       [ 0.53651685],\n",
       "       [-0.55586987],\n",
       "       [ 0.76680108]])"
      ]
     },
     "execution_count": 63,
     "metadata": {},
     "output_type": "execute_result"
    }
   ],
   "source": [
    "X_train.reshape(-1, 1)"
   ]
  },
  {
   "cell_type": "code",
   "execution_count": 64,
   "metadata": {},
   "outputs": [
    {
     "name": "stderr",
     "output_type": "stream",
     "text": [
      "C:\\ProgramData\\Anaconda3\\lib\\site-packages\\sklearn\\linear_model\\logistic.py:432: FutureWarning: Default solver will be changed to 'lbfgs' in 0.22. Specify a solver to silence this warning.\n",
      "  FutureWarning)\n"
     ]
    },
    {
     "data": {
      "text/plain": [
       "LogisticRegression(C=1.0, class_weight=None, dual=False, fit_intercept=True,\n",
       "                   intercept_scaling=1, l1_ratio=None, max_iter=100,\n",
       "                   multi_class='warn', n_jobs=None, penalty='l2',\n",
       "                   random_state=None, solver='warn', tol=0.0001, verbose=0,\n",
       "                   warm_start=False)"
      ]
     },
     "execution_count": 64,
     "metadata": {},
     "output_type": "execute_result"
    }
   ],
   "source": [
    "LR.fit(X_train.reshape(-1, 1),y_train)"
   ]
  },
  {
   "cell_type": "code",
   "execution_count": 65,
   "metadata": {},
   "outputs": [],
   "source": [
    "preds = LR.predict(X_test.reshape(-1, 1))"
   ]
  },
  {
   "cell_type": "code",
   "execution_count": 66,
   "metadata": {},
   "outputs": [
    {
     "data": {
      "text/plain": [
       "array([1, 1, 1, 1, 0, 0, 1, 0, 0, 0, 1, 0, 0, 0, 0, 1, 1, 0, 1, 1, 0, 1,\n",
       "       0, 0, 1, 1, 0, 0, 1, 1, 1, 1, 0, 1, 0, 0, 1, 0, 1, 1, 0, 0, 0, 1,\n",
       "       1, 1, 0, 0, 0, 1, 0, 0, 1, 1, 0, 1, 1, 1, 0, 1, 0, 0, 1, 0, 1, 0,\n",
       "       1, 1, 0, 0, 1, 1, 1, 1, 0, 1, 0, 1, 0, 1, 1, 0, 1, 1, 1, 1, 1, 0,\n",
       "       0, 1, 1, 0, 1, 0, 1, 1, 1, 0, 0, 1, 1, 0, 1, 1, 0, 1, 1, 1, 1, 0,\n",
       "       1, 1, 1, 1, 0, 1, 1, 0, 1, 0, 0, 0, 0, 1, 0, 0, 1, 1, 1, 0, 1, 1,\n",
       "       0, 0, 1, 1, 1, 0, 1, 1, 1, 0, 0, 1, 1, 1, 1, 0, 0, 1, 0, 1, 1, 0,\n",
       "       1, 0, 1, 0, 1, 1, 0, 1, 0, 1, 0, 0, 1, 0, 0, 0, 0, 1, 1, 0, 0, 1,\n",
       "       1, 0, 1, 1, 0, 1, 1, 0, 1, 1, 1, 1, 1, 1, 1, 1, 0, 1, 1, 1, 0, 0,\n",
       "       0, 1, 1, 1, 1, 1, 0, 0, 1, 0, 0, 1, 1, 0, 0, 1, 0, 0, 1, 1, 0, 0,\n",
       "       0, 1, 1, 0, 1, 1, 0, 0, 1, 0, 0, 1, 1, 1, 0, 0, 1, 0, 0, 0, 0, 0,\n",
       "       1, 1, 0, 0, 1, 1, 0, 0, 1, 0, 1, 0, 0, 1, 1, 1, 1, 1, 0, 1, 1, 0,\n",
       "       0, 1, 1, 1, 0, 1, 1, 1, 1, 1, 0, 0, 1, 0, 1, 1, 0, 0, 1, 1, 0, 1,\n",
       "       0, 0, 1, 1, 0, 0, 1, 1, 1, 1, 1, 0, 1, 1, 1, 0, 1, 1, 1, 0, 0, 1,\n",
       "       1, 1, 0, 1, 0, 0, 1, 1, 0, 0, 1, 1, 0, 0, 1, 0, 1, 0, 1, 0, 1, 0,\n",
       "       0, 0, 1, 1, 1, 0, 1, 1, 1, 0, 1, 1, 0, 0, 0, 1, 1, 1, 1, 1, 0, 1,\n",
       "       0, 0, 0, 0, 1, 1, 0, 1, 0, 1, 1, 1, 1, 1, 1, 1, 1, 0, 0, 0, 1, 1,\n",
       "       1, 1, 1, 1, 0, 1, 0, 0, 0, 1, 1, 0, 1, 1, 1, 1, 0, 1, 0, 1, 1, 1,\n",
       "       1, 0, 0, 1, 1, 1, 0, 1, 1, 0, 1, 1, 0, 0, 1, 1, 1, 1, 1, 1, 0, 1,\n",
       "       1, 1, 1, 1, 1, 1, 1, 0, 0, 0, 1, 0, 1, 1, 0, 1, 0, 1, 1, 0, 1, 1,\n",
       "       1, 1, 1, 0, 1, 0, 1, 1, 0, 0, 1, 0, 1, 1, 0, 1, 1, 1, 0, 0, 0, 1,\n",
       "       1, 0, 0, 1, 1, 1, 1, 0, 1, 0, 0, 0, 1, 1, 1, 1, 0, 1, 0, 0, 1, 1,\n",
       "       0, 1, 0, 1, 1, 0, 1, 1, 0, 0, 0, 0, 1, 1, 0, 0, 1, 0, 0, 1, 0, 1,\n",
       "       0, 0, 1, 1, 0, 1, 0, 0, 0, 1, 1, 0, 0, 0, 1, 1, 0, 0, 1, 0, 0, 1,\n",
       "       1, 0, 0, 1, 0, 1, 0, 0, 1, 1, 1, 0, 1, 1, 1, 1, 0, 1, 1, 1, 1, 0,\n",
       "       0, 0, 0, 0, 1, 1, 1, 0, 0, 0, 0, 1, 0, 0, 1, 0, 1, 1, 1, 1, 1, 0,\n",
       "       1, 1, 1, 1, 1, 1, 1, 1, 0, 1, 0, 1, 1, 1, 0, 1, 0, 1, 1, 1, 1, 1,\n",
       "       1, 0, 0, 0, 1, 0, 1, 1, 0, 1, 1, 1, 0, 1, 1, 1, 0, 0, 1, 0, 0, 1,\n",
       "       0, 0, 0, 1, 1, 0, 1, 0, 1, 1, 0, 0, 1, 0, 0, 0, 0, 1, 1, 1, 0, 0,\n",
       "       0, 1, 1, 0, 0, 0, 1, 1, 0, 0, 1, 0, 0, 1, 0, 1, 1, 1, 0, 1, 1, 0,\n",
       "       1, 1, 1, 1, 1, 1, 1, 0, 1, 1, 1, 0, 0, 1, 0, 1, 0, 1, 0, 1, 1, 0,\n",
       "       1, 1, 1, 0, 0, 1, 1, 0, 1, 0, 0, 1, 1, 0, 0, 0, 1, 1, 0, 1, 1, 1,\n",
       "       0, 0, 1, 0, 0, 1, 1, 1, 1, 0, 1, 1, 0, 1, 1, 1, 1, 1, 1, 1, 1, 1,\n",
       "       1, 0, 1, 0, 0, 1, 1, 0, 0, 1, 0, 0, 1, 0, 0, 0, 0, 1, 0, 0, 0, 1,\n",
       "       1, 1, 1, 0, 0, 1, 1, 0, 0, 0, 1, 1, 1, 0, 1, 0, 1, 0, 0, 0, 0, 0,\n",
       "       1, 0, 1, 0, 0, 0, 1, 1, 0, 1, 1, 1, 0, 0, 0, 1, 0, 0, 0, 0, 0, 0,\n",
       "       1, 1, 1, 0, 1, 1, 1, 1, 1, 1, 1, 0, 1, 0, 0, 1, 0, 0, 1, 1, 0, 1,\n",
       "       0, 1, 1, 0, 0, 0, 0, 1, 0, 0, 1, 0, 0, 1, 0, 1, 0, 1, 0, 1, 1, 1,\n",
       "       1, 1, 0, 1, 1, 1, 0, 1, 0, 1, 0, 0, 0, 1, 0, 0, 1, 1, 1, 0, 0, 1,\n",
       "       0, 0, 0, 1, 1, 1, 1, 0, 1, 0])"
      ]
     },
     "execution_count": 66,
     "metadata": {},
     "output_type": "execute_result"
    }
   ],
   "source": [
    "preds"
   ]
  },
  {
   "cell_type": "code",
   "execution_count": 67,
   "metadata": {},
   "outputs": [
    {
     "data": {
      "text/plain": [
       "0.5403225806451613"
      ]
     },
     "execution_count": 67,
     "metadata": {},
     "output_type": "execute_result"
    }
   ],
   "source": [
    "np.mean(preds == y_test)"
   ]
  },
  {
   "cell_type": "code",
   "execution_count": 69,
   "metadata": {},
   "outputs": [],
   "source": [
    "preds_train = LR.predict(X_train.reshape(-1,1))"
   ]
  },
  {
   "cell_type": "code",
   "execution_count": 70,
   "metadata": {},
   "outputs": [
    {
     "data": {
      "text/plain": [
       "0.5452710495963091"
      ]
     },
     "execution_count": 70,
     "metadata": {},
     "output_type": "execute_result"
    }
   ],
   "source": [
    "np.mean(preds_train == y_train)"
   ]
  },
  {
   "cell_type": "code",
   "execution_count": null,
   "metadata": {},
   "outputs": [],
   "source": []
  }
 ],
 "metadata": {
  "kernelspec": {
   "display_name": "Python 3",
   "language": "python",
   "name": "python3"
  },
  "language_info": {
   "codemirror_mode": {
    "name": "ipython",
    "version": 3
   },
   "file_extension": ".py",
   "mimetype": "text/x-python",
   "name": "python",
   "nbconvert_exporter": "python",
   "pygments_lexer": "ipython3",
   "version": "3.7.4"
  },
  "latex_envs": {
   "LaTeX_envs_menu_present": true,
   "autoclose": false,
   "autocomplete": true,
   "bibliofile": "biblio.bib",
   "cite_by": "apalike",
   "current_citInitial": 1,
   "eqLabelWithNumbers": true,
   "eqNumInitial": 1,
   "hotkeys": {
    "equation": "Ctrl-E",
    "itemize": "Ctrl-I"
   },
   "labels_anchors": false,
   "latex_user_defs": false,
   "report_style_numbering": false,
   "user_envs_cfg": false
  },
  "toc": {
   "base_numbering": 1,
   "nav_menu": {},
   "number_sections": true,
   "sideBar": true,
   "skip_h1_title": false,
   "title_cell": "Table of Contents",
   "title_sidebar": "Contents",
   "toc_cell": false,
   "toc_position": {},
   "toc_section_display": true,
   "toc_window_display": false
  }
 },
 "nbformat": 4,
 "nbformat_minor": 2
}
